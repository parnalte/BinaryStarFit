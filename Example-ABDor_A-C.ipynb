{
 "cells": [
  {
   "cell_type": "code",
   "execution_count": 1,
   "metadata": {
    "ExecuteTime": {
     "end_time": "2017-12-29T12:51:26.051759Z",
     "start_time": "2017-12-29T12:51:24.237547Z"
    },
    "collapsed": true
   },
   "outputs": [],
   "source": [
    "%matplotlib inline\n",
    "\n",
    "import numpy as np\n",
    "import matplotlib as mpl\n",
    "import matplotlib.pyplot as plt\n",
    "\n",
    "import astropy.coordinates as coord\n",
    "from chainconsumer import ChainConsumer\n",
    "\n",
    "from binstarfit import model, io, stats, mcmc"
   ]
  },
  {
   "cell_type": "code",
   "execution_count": 2,
   "metadata": {
    "ExecuteTime": {
     "end_time": "2017-12-29T12:51:26.949036Z",
     "start_time": "2017-12-29T12:51:26.940850Z"
    },
    "collapsed": true
   },
   "outputs": [],
   "source": [
    "# Define parameters for the MCMC runs\n",
    "ntemps=25\n",
    "nwalkers=100\n",
    "nburnin=2000\n",
    "niter=500\n",
    "outchain_file=\"chain_ABDorAC_example.dat\"\n",
    "outpos_file=\"finalpos_ABDorAC_example.npy\"\n",
    "threads=16\n",
    "rseed=147"
   ]
  },
  {
   "cell_type": "code",
   "execution_count": 3,
   "metadata": {
    "ExecuteTime": {
     "end_time": "2017-12-29T12:51:27.447862Z",
     "start_time": "2017-12-29T12:51:27.383818Z"
    },
    "collapsed": true
   },
   "outputs": [],
   "source": [
    "# Define the data files and data for the system\n",
    "file_data_abs = \"data/ABDorA_pos.csv\"\n",
    "file_data_rel =\"data/ABDorA-C_relpos.csv\"\n",
    "ref_time = 1993.0\n",
    "ABDorAC_coords = coord.SkyCoord(\"5h28m44.8s\", \"-65d26m56.0s\")"
   ]
  },
  {
   "cell_type": "code",
   "execution_count": 4,
   "metadata": {
    "ExecuteTime": {
     "end_time": "2017-12-29T12:51:27.740486Z",
     "start_time": "2017-12-29T12:51:27.733747Z"
    },
    "collapsed": true
   },
   "outputs": [],
   "source": [
    "# Define priors\n",
    "myprior_pars = stats.prior_params_default\n",
    "\n",
    "# Only add here the ones I want to change from the defaults\n",
    "myprior_pars['a_axis'] = {'loc': 0, 'scale': 0.05}\n",
    "myprior_pars['period'] = {'loc': 0, 'scale': 15}\n",
    "myprior_pars['pi_p'] = {'loc': 0, 'scale': 0.05}"
   ]
  },
  {
   "cell_type": "code",
   "execution_count": 5,
   "metadata": {
    "ExecuteTime": {
     "end_time": "2017-12-29T13:31:02.203267Z",
     "start_time": "2017-12-29T12:51:28.150782Z"
    }
   },
   "outputs": [
    {
     "name": "stdout",
     "output_type": "stream",
     "text": [
      "Correctly read 15 observations for the primary from file data/ABDorA_pos.csv\n",
      "Correctly read 5 observations for the relative orbit from file data/ABDorA-C_relpos.csv\n",
      "We have a total of 40 datapoints (20 observations) for a model with 13 parameters.\n",
      "Therefore, the number of degrees of freedom is 27\n",
      "Now, we will run the PTSampler for 2000 burn-in iterations that will be discarded.\n"
     ]
    },
    {
     "name": "stderr",
     "output_type": "stream",
     "text": [
      "/data/pablo/TREBALL/Radio_Binary_Modelling/BinaryStarFit/binstarfit/model.py:111: RuntimeWarning: invalid value encountered in sqrt\n",
      "  Y = np.sqrt(1 - (eccentricity**2))*np.sin(ecc_anomaly)\n",
      "/data/pablo/TREBALL/Radio_Binary_Modelling/BinaryStarFit/binstarfit/model.py:111: RuntimeWarning: invalid value encountered in sqrt\n",
      "  Y = np.sqrt(1 - (eccentricity**2))*np.sin(ecc_anomaly)\n",
      "/data/pablo/TREBALL/Radio_Binary_Modelling/BinaryStarFit/binstarfit/model.py:111: RuntimeWarning: invalid value encountered in sqrt\n",
      "  Y = np.sqrt(1 - (eccentricity**2))*np.sin(ecc_anomaly)\n",
      "/data/pablo/TREBALL/Radio_Binary_Modelling/BinaryStarFit/binstarfit/model.py:111: RuntimeWarning: invalid value encountered in sqrt\n",
      "  Y = np.sqrt(1 - (eccentricity**2))*np.sin(ecc_anomaly)\n",
      "/data/pablo/TREBALL/Radio_Binary_Modelling/BinaryStarFit/binstarfit/model.py:111: RuntimeWarning: invalid value encountered in sqrt\n",
      "  Y = np.sqrt(1 - (eccentricity**2))*np.sin(ecc_anomaly)\n",
      "/data/pablo/TREBALL/Radio_Binary_Modelling/BinaryStarFit/binstarfit/model.py:111: RuntimeWarning: invalid value encountered in sqrt\n",
      "  Y = np.sqrt(1 - (eccentricity**2))*np.sin(ecc_anomaly)\n",
      "/data/pablo/TREBALL/Radio_Binary_Modelling/BinaryStarFit/binstarfit/model.py:111: RuntimeWarning: invalid value encountered in sqrt\n",
      "  Y = np.sqrt(1 - (eccentricity**2))*np.sin(ecc_anomaly)\n",
      "/data/pablo/TREBALL/Radio_Binary_Modelling/BinaryStarFit/binstarfit/model.py:111: RuntimeWarning: invalid value encountered in sqrt\n",
      "  Y = np.sqrt(1 - (eccentricity**2))*np.sin(ecc_anomaly)\n",
      "/data/pablo/TREBALL/Radio_Binary_Modelling/BinaryStarFit/binstarfit/model.py:111: RuntimeWarning: invalid value encountered in sqrt\n",
      "  Y = np.sqrt(1 - (eccentricity**2))*np.sin(ecc_anomaly)\n",
      "/data/pablo/TREBALL/Radio_Binary_Modelling/BinaryStarFit/binstarfit/model.py:111: RuntimeWarning: invalid value encountered in sqrt\n",
      "  Y = np.sqrt(1 - (eccentricity**2))*np.sin(ecc_anomaly)\n",
      "/data/pablo/TREBALL/Radio_Binary_Modelling/BinaryStarFit/binstarfit/model.py:111: RuntimeWarning: invalid value encountered in sqrt\n",
      "  Y = np.sqrt(1 - (eccentricity**2))*np.sin(ecc_anomaly)\n",
      "/data/pablo/TREBALL/Radio_Binary_Modelling/BinaryStarFit/binstarfit/model.py:111: RuntimeWarning: invalid value encountered in sqrt\n",
      "  Y = np.sqrt(1 - (eccentricity**2))*np.sin(ecc_anomaly)\n",
      "/data/pablo/TREBALL/Radio_Binary_Modelling/BinaryStarFit/binstarfit/model.py:111: RuntimeWarning: invalid value encountered in sqrt\n",
      "  Y = np.sqrt(1 - (eccentricity**2))*np.sin(ecc_anomaly)\n",
      "/data/pablo/TREBALL/Radio_Binary_Modelling/BinaryStarFit/binstarfit/model.py:111: RuntimeWarning: invalid value encountered in sqrt\n",
      "  Y = np.sqrt(1 - (eccentricity**2))*np.sin(ecc_anomaly)\n",
      "/home/pablo/anaconda/envs/radio_binaries/lib/python3.5/site-packages/emcee/ptsampler.py:340: RuntimeWarning: invalid value encountered in less\n",
      "  accepts = logrs < logpaccept\n",
      "/data/pablo/TREBALL/Radio_Binary_Modelling/BinaryStarFit/binstarfit/model.py:111: RuntimeWarning: invalid value encountered in sqrt\n",
      "  Y = np.sqrt(1 - (eccentricity**2))*np.sin(ecc_anomaly)\n",
      "/data/pablo/TREBALL/Radio_Binary_Modelling/BinaryStarFit/binstarfit/model.py:111: RuntimeWarning: invalid value encountered in sqrt\n",
      "  Y = np.sqrt(1 - (eccentricity**2))*np.sin(ecc_anomaly)\n"
     ]
    },
    {
     "name": "stdout",
     "output_type": "stream",
     "text": [
      " 5.0% 10.0% 15.0% 20.0% 25.0% 30.0% 35.0% 40.0% 45.0% 50.0% 55.0% 60.0% 65.0% 70.0% 75.0% 80.0% 85.0% 90.0% 95.0% 100.0% Now, we will run the PTSampler for 500 iterations to get the final chain\n",
      "20.0% 40.0% 60.0% 80.0% 100.0% This run of the MCMC sampling has finished.\n",
      "The complete chain (for T=1) has been saved to file chain_ABDorAC_example.dat\n",
      "The final position of the sampler (for all temps) has been saved to file finalpos_ABDorAC_example.npy\n",
      "\n",
      "Mean acceptance fraction for the different temperatures:\n",
      "[ 0.0017    0.0023    0.002956  0.003084  0.003304  0.0038    0.004216\n",
      "  0.0045    0.004704  0.00484   0.004856  0.005332  0.005324  0.005848\n",
      "  0.005888  0.006184  0.006552  0.00672   0.006944  0.006868  0.005564\n",
      "  0.003528  0.00302   0.003816  0.007008]\n",
      "\n",
      "Temp-swap acceptance fraction for the different temperatures:\n",
      "[ 0.009288  0.012768  0.019034  0.024196  0.028468  0.031784  0.034336\n",
      "  0.03623   0.037796  0.038974  0.040194  0.041088  0.04187   0.043296\n",
      "  0.046914  0.055044  0.067452  0.082912  0.08796   0.057736  0.020908\n",
      "  0.01974   0.036328  0.047946  0.05162 ]\n",
      "****************************************************************\n"
     ]
    }
   ],
   "source": [
    "# Actually run the calculation\n",
    "mcmc.main(ntemps=ntemps,\n",
    "          nwalkers=nwalkers,\n",
    "          nburnin=nburnin,\n",
    "          niter=niter,\n",
    "          outchain_file=outchain_file,\n",
    "          outpos_file=outpos_file,\n",
    "          ref_time=ref_time,\n",
    "          skycoords_nominal=ABDorAC_coords,\n",
    "          data_fname_prim=file_data_abs,\n",
    "          data_fname_sec=None,\n",
    "          data_fname_rel=file_data_rel,\n",
    "          rel_is_primary=True,\n",
    "          prior_params=myprior_pars,\n",
    "          rseed=rseed,\n",
    "          threads=threads\n",
    "         )"
   ]
  },
  {
   "cell_type": "code",
   "execution_count": null,
   "metadata": {
    "collapsed": true
   },
   "outputs": [],
   "source": []
  },
  {
   "cell_type": "code",
   "execution_count": null,
   "metadata": {
    "collapsed": true
   },
   "outputs": [],
   "source": []
  }
 ],
 "metadata": {
  "kernelspec": {
   "display_name": "Python 3",
   "language": "python",
   "name": "python3"
  },
  "language_info": {
   "codemirror_mode": {
    "name": "ipython",
    "version": 3
   },
   "file_extension": ".py",
   "mimetype": "text/x-python",
   "name": "python",
   "nbconvert_exporter": "python",
   "pygments_lexer": "ipython3",
   "version": "3.5.4"
  },
  "toc": {
   "nav_menu": {},
   "number_sections": true,
   "sideBar": true,
   "skip_h1_title": false,
   "toc_cell": false,
   "toc_position": {},
   "toc_section_display": "block",
   "toc_window_display": false
  }
 },
 "nbformat": 4,
 "nbformat_minor": 2
}
